{
  "nbformat": 4,
  "nbformat_minor": 0,
  "metadata": {
    "colab": {
      "provenance": [],
      "toc_visible": true,
      "authorship_tag": "ABX9TyNx347ZodgG1Aon5rfg5DcD",
      "include_colab_link": true
    },
    "kernelspec": {
      "name": "python3",
      "display_name": "Python 3"
    },
    "language_info": {
      "name": "python"
    }
  },
  "cells": [
    {
      "cell_type": "markdown",
      "metadata": {
        "id": "view-in-github",
        "colab_type": "text"
      },
      "source": [
        "<a href=\"https://colab.research.google.com/github/JChakravarty99/CS-Classes/blob/main/Angad_Class_Notebook.ipynb\" target=\"_parent\"><img src=\"https://colab.research.google.com/assets/colab-badge.svg\" alt=\"Open In Colab\"/></a>"
      ]
    },
    {
      "cell_type": "markdown",
      "source": [
        "# Introduction\n",
        "We'll be using this notebook for our classes. It will have all the code we practice and also any notes which I add. All the code will be arranged date-wise, so that you can quickly go through them and revise fast before the exam.\n",
        "\n",
        "\n",
        "\n"
      ],
      "metadata": {
        "id": "Ju4LmOFh-EvT"
      }
    },
    {
      "cell_type": "markdown",
      "source": [
        "## Using Google Colab\n",
        "This notebook will allow you to write text and code in one place. To start writing a new program, click the ` + Code ` button on the top left. To add a block of text `+ Text ` button next to it. You can try them now if you like 😀.\n",
        "\n",
        "Once you click on the `+ Code` button, it'll open up a box where you can write a program. This can be a multi-line program, so just press the `Enter` key on your keyboard to go to the next line.\n",
        "\n",
        "Similarly, to create a text block, just click the `+ Text` button and it'll open up an editable text box where you can type in whatever you want. Each textbox will have a menu on top, which can be used to format your text as you want. \n",
        "\n",
        "Feel free to explore this whenever you have the time. I've made a section for experimenting at the very end of this notebook, so I encourage you to play around in that section as much as you want, to properly understand this tool."
      ],
      "metadata": {
        "id": "XYivRqbCIaW_"
      }
    },
    {
      "cell_type": "markdown",
      "source": [
        "## How to Use This Notebook\n",
        "The notebook will be divided into seaparate sections, each with introductions like this one. In these sections, I will give an overview of what we'll do in that class, along with some important notes to keep in mind. \n",
        "\n",
        "Each of these sections will have `blocks`, which will either be code or plain text. This way we can effectively organize the notebook by topics or dates(we'll see which one works best). All the sections will be listed out in the table of contents, which you can see by clicking on the first symbol above the search symbol, on the sidebar menu on the left side. \n",
        "\n",
        "For each section, I will write an overview, which will give a brief idea of what that section contains, along with some example programs, which can be used for reference. It'll also have a separate sub-section called **\"Exercises\"**, where I will keep practice questions ready for practice. You can use those sebsections for future practice as well, in case you do so after or before class. "
      ],
      "metadata": {
        "id": "3uyufbo2IRLD"
      }
    },
    {
      "cell_type": "markdown",
      "source": [
        "# Python Basics\n",
        "This section will have some extremely basic python programs, which involve the basics of variables, input and output."
      ],
      "metadata": {
        "id": "GUyYXjjvKfsn"
      }
    },
    {
      "cell_type": "markdown",
      "source": [
        "## Section Overview\n",
        "This section contains some extremely basic python programs, which involve the basics of variables, input and output. This is a good starting point, as almost any program you will write will involve taking input from the user and displaying some result. In further sections, we'll take a look at how to process the input, that is, perform mathematical or string related actions."
      ],
      "metadata": {
        "id": "StaubSB5Lz-_"
      }
    },
    {
      "cell_type": "markdown",
      "source": [
        "## Key Python Concepts Covered in this Section\n"
      ],
      "metadata": {
        "id": "mb1Ch-sFNJSj"
      }
    },
    {
      "cell_type": "markdown",
      "source": [
        "### Identifiers\n",
        "An Identifier is used to name a Variable in Python. Certain rules need to be followed when declaring Identifiers. Let’s have a look at the rules to declare identifiers:\n",
        "*   Identifiers are always case-sensitive.\n",
        "*   The first letter of an identifier will always be an alphabet, underscore, or the dollar sign.\n",
        "* No white spaces are allowed.\n",
        "* Identifiers cannot be reserved keywords such as `if`, `else`, `for`, `return`, etc.\n",
        "\n",
        "Examples of some valid identifiers:\n",
        "```python\n",
        "CarName\n",
        "PETROL\n",
        "diameter\n",
        "i\n",
        "a1\n",
        "_carname\n",
        "$radius\n",
        "java_array\n",
        "```\n",
        "Example of invalid identifiers: \n",
        "```python\n",
        "13diameter\n",
        "user name\n",
        "*identifier name\n",
        "return\n",
        "```"
      ],
      "metadata": {
        "id": "NbZCHBXoQgfO"
      }
    },
    {
      "cell_type": "markdown",
      "source": [
        "### input()\n",
        "The `input()` function is used to take input from the user. For example:\n",
        "```python\n",
        "num = input(\"Enter a number: \")\n",
        "```\n",
        "The `input()` function can also print a prompt message, which gives the user an idea of what kind of input is expected. Therefore, the message `Enter a number` will effectively tell the user that an integer input is expected by the program at that stage.\n",
        "\n",
        "***NOTE:***\n",
        " This function can be used to take **any** input, irrespective of data type. Therefore it is upto the programmer to ensure that the correct data type of the input is enforced. To do this, the desired datatype must be written outside the `input()` function. \n",
        "Example: \n",
        "```python\n",
        "num = int(input(\"Enter a number: \"))  #This will convert the input to integer type, irrespective of what the user enters.\n",
        "\n",
        "name = str(input(\"Enter name: \"))   #The str() will convert entered input to string, irrespective of what the user enters\n",
        "```\n",
        "In this way, the programmer ensures that correct type of input is entered. "
      ],
      "metadata": {
        "id": "DkzkcIzYVmL1"
      }
    },
    {
      "cell_type": "markdown",
      "source": [
        "### print()\n",
        "The `print()` function is used to print messages to the console. This is mostly used for output messages and to communicate with the user. The `print()` function can be used to display messages or values of variables. \n",
        "\n",
        "Examples: \n",
        "```python\n",
        "print(\"Hello World\")   #Prints the string \"Hello World\" to the console\n",
        "print(10)              #Prints the value \"10\" to the console\n",
        "\n",
        "num = 10\n",
        "print(num)             #Prints the value stored in the variable \"num\"\n",
        "```"
      ],
      "metadata": {
        "id": "sOfLUcsAYK4Q"
      }
    },
    {
      "cell_type": "markdown",
      "source": [
        "## Example Programs"
      ],
      "metadata": {
        "id": "nVDuyPLmS6u0"
      }
    },
    {
      "cell_type": "code",
      "source": [
        "# Program to print \"Hello World\"\n",
        "print(\"Hello World!\")"
      ],
      "metadata": {
        "id": "xdMeL-sOYmxW"
      },
      "execution_count": null,
      "outputs": []
    },
    {
      "cell_type": "code",
      "source": [
        "# Program to print the value stored in a variable\n",
        "num = 10\n",
        "print(num)"
      ],
      "metadata": {
        "id": "4R1xdiLZYt66"
      },
      "execution_count": null,
      "outputs": []
    },
    {
      "cell_type": "code",
      "source": [
        "# Program for accepting a number from a user and printing the value\n",
        "num = int(input(\"Enter a number: \"))\n",
        "print(\"The number entered is: \", num)"
      ],
      "metadata": {
        "id": "oDttNl7dK1Mn"
      },
      "execution_count": null,
      "outputs": []
    },
    {
      "cell_type": "code",
      "source": [
        "# Program to accept the user's name and print a hello message\n",
        "name = str(input(\"Enter your name: \"))\n",
        "print(\"Your name is: \", name)"
      ],
      "metadata": {
        "id": "DCi5naSLK8G_"
      },
      "execution_count": null,
      "outputs": []
    },
    {
      "cell_type": "markdown",
      "source": [
        "## Exercises\n",
        "For the following exercises, read the question, then write the program in your notebook first. Once you are satisfied, then code it here and execute. See what mistakes you've made, if any, and correct them."
      ],
      "metadata": {
        "id": "b4UR8xgSTI3z"
      }
    },
    {
      "cell_type": "markdown",
      "source": [
        "### Q1.  Write a program to take the firstname and lastname of a user, and display the full name as output\n",
        "Example Input:\n",
        "```\n",
        "Enter First name: Janmejay\n",
        "Enter Last name: Chakravarty\n",
        "```\n",
        "Example Output:\n",
        "```\n",
        "Your full name is: Janmejay Chakravarty\n",
        "```\n"
      ],
      "metadata": {
        "id": "NzIU7cReTi5o"
      }
    },
    {
      "cell_type": "code",
      "source": [
        "# Write a program to take firstname and lastname of a user, and display the full name as output\n"
      ],
      "metadata": {
        "id": "IwZW-0I-TMoD"
      },
      "execution_count": null,
      "outputs": []
    },
    {
      "cell_type": "markdown",
      "source": [
        "### Q2.  Write a program to display a message about the number of fruits bought.\n",
        "Example Input:\n",
        "```\n",
        "Enter name of fruit: Apples\n",
        "Enter quantity of fruits bought: 5\n",
        "```\n",
        "Example Output:\n",
        "```\n",
        "You bought 5 Apples!\n",
        "```\n"
      ],
      "metadata": {
        "id": "lvVmbtXXZmWh"
      }
    },
    {
      "cell_type": "code",
      "source": [
        "# Write a program to display a message about the number of fruits bought.\n"
      ],
      "metadata": {
        "id": "k2no3aMwaZDI"
      },
      "execution_count": null,
      "outputs": []
    },
    {
      "cell_type": "markdown",
      "source": [
        "# Python Operators\n"
      ],
      "metadata": {
        "id": "6-5MRVgZbFYd"
      }
    },
    {
      "cell_type": "markdown",
      "source": [
        "## Section Overview\n",
        "This section will deal with Python Operators. Operators, as the name suggests, are used to perform operations on variable values. Python has several types of Operators, each dealing with different kinds of operations. \n",
        "\n"
      ],
      "metadata": {
        "id": "jnITez5WcS4E"
      }
    },
    {
      "cell_type": "markdown",
      "source": [
        "## Key Python Concepts Covered in this Section\n",
        "This section deals with Operators, which is the first step in performing any action on a given set of data. There are several types of Operators, each performing a unique function allowing the programmer to interact with data in different ways. Some of the common ones used are: \n",
        "1.   Arithmetic Operators\n",
        "2.   Assignment Operators\n",
        "3.   Comparison Operators\n",
        "4.   Logical Operators\n",
        "\n",
        "We'll take a look at each type of Operator in detail in further sub-sections.\n"
      ],
      "metadata": {
        "id": "085hQn3MlYd7"
      }
    },
    {
      "cell_type": "markdown",
      "source": [
        "### Arithmetic Operators\n",
        "These operators are used to perform arithmetic(mathematical) operations on two numbers. The below table gives the details of all such operators.\n",
        "\n",
        "| Operator | Symbol | Description | Example |\n",
        "| :-------: | :-------: | ----------- | :---------: |\n",
        "| Addition | + | This is used to add the value of two numbers. | num1 + num2 |\n",
        "| Subtraction | - | This is used to subtract the value of two numbers. | num1 - num2 |\n",
        "| Multiplication | * | This is used to multiply the value of two numbers. | num1 \\* num2 |\n",
        "| Division | / | This is used to divide the value of two numbers. | num1 / num2 |\n",
        "| Modulo or Modulus | % | This is used to calculate the remainder after dividing two numbers. | num1 % num2 |\n",
        "\n",
        "There are more advanced arithmetic operators which are supported by Python, but that is beyond the scope of the current syllabus. We can always explore those if required. "
      ],
      "metadata": {
        "id": "bBRzl8DTd2fa"
      }
    },
    {
      "cell_type": "markdown",
      "source": [
        "### Assignment Operators\n",
        "These operators are used to assign values to variables in Python. The table below lists all the assignment operators supported by Python.\n",
        "\n",
        "| Operator | Symbol | Description | Syntax | Same As |\n",
        "| :-------: | :-------: | ----------- | :---------: | :---------: |\n",
        "| Assignment | = | This is used to assign the value on the right hand side of the symbol to the variable. | var = 5 | var = 5 |\n",
        "| Add and Assign | += | A shorthand to add the value to the variable and assign it to the same variable. | var += 5 | var = var + 5 |\n",
        "| Subtract and Assign | -= | A shorthand to subtract the value from the variable and assign it to the same variable. | var -= 5 | var = var - 5 |\n",
        "| Multiply and Assign | \\*= | A shorthand to multiply the value to the variable and assign it to the same variable. | var *= 5 | var = var \\* 5 |\n",
        "| Divide and Assign | /= | A shorthand to divide the value from the variable and assign it to the same variable. | var /= 5 | var = var / 5 |\n",
        "| Modulo and Assign | %= | A shorthand to calculate the modulo of the value and the variable and assign it to the same variable. | var %= 5 | var = var % 5 |\n",
        "\n",
        "Just like the Arithmetic Operators, there are more advanced assignment operators which are supported by Python, but that is beyond the scope of the current syllabus. They follow the same pattern established here, and serve similar purposes, so it'll be easy to understand in the future"
      ],
      "metadata": {
        "id": "cXcSuhXkiu-D"
      }
    },
    {
      "cell_type": "markdown",
      "source": [
        "### Comparison Operators\n",
        "These operators are used to compare the values of two numbers or variables. They can be used to enforce conditions, and therefore are usually used to form conditional statements. The below table gives the details of all such operators.\n",
        "\n",
        "| Operator | Symbol | Description | Example |\n",
        "| :-------: | :-------: | ----------- | :---------: |\n",
        "| Equal to | == | Checks if the two variables/numbers have equal values | num1 == num2 |\n",
        "| Not Equal | != | Checks if the two variables/numbers have unequal values | num1 != num2 |\n",
        "| Greater than | > | Checks if the value on the left is greater than the value on the right | num1 > num2 |\n",
        "| Less than | < | Checks if the value on the left is less than the value on the right | num1 < num2 |\n",
        "| Greater than Equal to | >= | Checks if the value on the left is greater than or equal to the value on the right | num1 >= num2 |\n",
        "| Less than | <= | Checks if the value on the left is less than or equal to the value on the right | num1 <= num2 |\n"
      ],
      "metadata": {
        "id": "ICSy44uRmEfs"
      }
    },
    {
      "cell_type": "markdown",
      "source": [
        "### Logical Operators\n",
        "These operators are used to logically combine two conditional statements. The below table gives the details of all such operators.\n",
        "\n",
        "| Operator | Symbol | Description | Example |\n",
        "| :-------: | :-------: | ----------- | :---------: |\n",
        "| And | and | Returns True if both statements are true | (num1 < num2) and (num1 < num3) |\n",
        "| Or | or | Returns True if either statement is true | (num1 < num2) or (num1 < num3) |\n",
        "| Not | not | Reverse the result, returns False if the result is true | not(num1 < num2) |\n"
      ],
      "metadata": {
        "id": "FPXghe6yoyRv"
      }
    },
    {
      "cell_type": "markdown",
      "source": [
        "### Operator Precedence\n",
        "An important part of using operators is knowing and remembering operator precedence. Operator Precedence describes the relative importance of each operator when seen together. In simple words, Operator precedence describes the order in which operations are performed when two or more operators are found in the same statement.\n",
        "\n",
        "The precedence order of operators is described in the table below, starting with the highest precedence at the top:\n",
        "\n",
        "| Operator | Symbol(s) | \n",
        "| :-------: | :-------: |\n",
        "| Paranthesis | () |\n",
        "| Division, Multiplication, Modulo | /, \\*, % |\n",
        "| Addition, Subtraction | +, - |\n",
        "| Comparison | ==, !=, >, <, >=, <= |\n",
        "| Logical NOT | not |\n",
        "| Logical AND | and |\n",
        "| Logical OR | or | \n",
        "\n",
        "There are several others operators present in Python's complete precedence table. We shall revisit this table as they are introduced to you. "
      ],
      "metadata": {
        "id": "0_IRnzoEEyfO"
      }
    },
    {
      "cell_type": "markdown",
      "source": [
        "## Example Programs"
      ],
      "metadata": {
        "id": "vQ8smWjQG46Q"
      }
    },
    {
      "cell_type": "code",
      "source": [
        "# A Program to demonstrate all Arithmetic Operators\n",
        "num1 = 10\n",
        "num2 = 5\n",
        "\n",
        "print(num1 + num2)      # Result = 15\n",
        "print(num1 - num1)      # Result = 5\n",
        "print(num2 * num1)      # Result = 50\n",
        "print(num1/num2)        # Result = 2"
      ],
      "metadata": {
        "id": "YDPeiLo5G_HP"
      },
      "execution_count": null,
      "outputs": []
    },
    {
      "cell_type": "code",
      "source": [
        "# A Program to demonstrate all Assignment Operators\n",
        "num1 = 10\n",
        "num2 = 5\n",
        "\n",
        "result = num1           #Assigning result with num1's value\n",
        "print(\"Initial value of result is \", result)\n",
        "result += num2          # result should now have the value of num1 + num2 = 15\n",
        "print(\"Value of result after 'result += num2' = \", result)\n",
        "result -= num1          # result should now have the value of 15 - num1 = 5\n",
        "print(\"Value of result after 'result -= num1' = \", result)\n",
        "result *= num1          # result should now have the value of 5 * num1 = 50\n",
        "print(\"Value of result after 'result *= num1' = \", result)\n",
        "result /= num2          # result should now have the value of 50 / num2 = 10\n",
        "print(\"Value of result after 'result /= num2' = \", result)\n",
        "result %= num2          # result should now have the value of 10 - num2 = 0\n",
        "print(\"Value of result after 'result %= num1' = \", result)"
      ],
      "metadata": {
        "id": "JvmxPLqEHjvA"
      },
      "execution_count": null,
      "outputs": []
    },
    {
      "cell_type": "code",
      "source": [
        "# A Program to demonstrate all Comparison Operators\n",
        "num1 = 10\n",
        "num2 = 5\n",
        "num3 = 10.0\n",
        "\n",
        "print(num1 > num2)      #True\n",
        "print(num1 < num2)      #False\n",
        "print(num1 == num3)     #True \n",
        "print(num1 != num2)     #True\n",
        "print(num2 >= num3)     #False\n",
        "print(num1 <= num3)     #True"
      ],
      "metadata": {
        "id": "cGrEiDgeI5Q0"
      },
      "execution_count": null,
      "outputs": []
    },
    {
      "cell_type": "code",
      "source": [
        "# A Program to demonstrate all Logical all Comparison Operators\n",
        "num1 = 10\n",
        "num2 = 5\n",
        "num3 = 10.0\n",
        "\n",
        "print(num1 > num2 and num2 < num3)      #True\n",
        "print(num1 < num2 or num2 > num1)       #False\n",
        "print(num1 == num3 and num1 != num2)    #True \n",
        "print(not(num1 != num2))                #False\n",
        "print(not(num1 <= num3))                #False"
      ],
      "metadata": {
        "id": "shCwIQUtJy8y"
      },
      "execution_count": null,
      "outputs": []
    },
    {
      "cell_type": "markdown",
      "source": [
        "Explaining the following example: \n",
        "\n",
        "***Statement 1:***\n",
        "```python\n",
        "print(4 + 9 % 5)\n",
        "```\n",
        "Here, the operators involved are: `+ and %`. When the precedence of these two operators are compared, we can clearly see that `%` has a higher precedence than `+`. Therefore, the expression is interpreted by the computer as `4 + (9 % 5)`. Clearly, now `9 % 5` will be calculated first, and the result of that calculation will be added to `4`. Thus, the final result of this expression will be **`8`**.\n",
        "\n",
        "---\n",
        "\n",
        "***Statement 2:***\n",
        "```python\n",
        "print((4 + 9) % 5)\n",
        "```\n",
        "Here, the operators involved are: `(), + and %`. In this expression, the addition of the paranthesis operators() changes the way the expression is evaluated. When the precedence of these operators are compared, we can clearly see that `()` has the highest precedence, followed by `%` and then `+`. However, since `4 + 9` is located within the `()` operator, it will be calculated first. Thus, the expression is interpreted by the computer as `(4 + 9) % 5`, exactly the way it is written. When calculated, this will become `13 % 5` after the initial calculation, and the final result of this expression will be **`3`**.\n",
        "\n",
        "---\n",
        "\n",
        "***Statement 3:***\n",
        "```python\n",
        "print(4 + 9 - 5)\n",
        "```\n",
        "Here, the operators involved are: `+ and -`. In this expression, both the operators have the **same precedence**. In such cases, it is a general rule that the expression is evaluated from left to right. Therefore, the steps for evaluation would be: \n",
        "1. Add `4 + 9`\n",
        "2. Subtract `5` from the result of `4 + 9`\n",
        "\n",
        "Thus the result of this evaluation will be **`8`**. \n"
      ],
      "metadata": {
        "id": "md7ICnk7Ksb_"
      }
    },
    {
      "cell_type": "code",
      "source": [
        "# # A Program to demonstrate Operator Precedence\n",
        "print(4 + 9 % 5)        #Statement 1\n",
        "print((4 + 9) % 5)      #Statement 2\n",
        "print(4 + 9 - 5)        #Statement 3 "
      ],
      "metadata": {
        "id": "CYvZ-FVuKWwr"
      },
      "execution_count": null,
      "outputs": []
    },
    {
      "cell_type": "markdown",
      "source": [
        "## Exercises\n",
        "For the following exercises, read the question, then write the program in your notebook first. In addition to the program, write the expected output of your program too. Once you are satisfied, then code it here and execute. See what mistakes you've made, if any, and correct them. \n",
        "\n",
        "These exercises are meant to test your understanding, so if you get confused, go back to the sections where I've talked about the operators, read them, and try again. If you're still confused, I'm always there! 😀\n",
        "\n",
        "For the questions which ask you to evaluate an expression based on Operator Precedence, write all the steps in your notebook before writing the program here. "
      ],
      "metadata": {
        "id": "c93WwhpvPUD4"
      }
    },
    {
      "cell_type": "markdown",
      "source": [
        "### Q1.  Write a program to ask the user to input 3 numbers, and perform the following operations on them:\n",
        "1. Add the first and second number and store the result in a variable\n",
        "2. Subtract the third number from the result of the first step\n",
        "3. Multiply the second number to the third number.\n",
        "4. Divide the result of the third step by the result of the second step\n",
        "\n",
        "Print the result after each step\n",
        "\n",
        "Example Input:\n",
        "```\n",
        "Enter the first number: 10\n",
        "Enter the second number: 5\n",
        "Enter the third number: 2\n",
        "```\n",
        "Example Output:\n",
        "```\n",
        "Output after first step = 15\n",
        "Output after second step = 13\n",
        "Output after third step = 10\n",
        "Output after fourth step = 1.0\n",
        "```"
      ],
      "metadata": {
        "id": "vmk1QfLDP7BU"
      }
    },
    {
      "cell_type": "code",
      "source": [
        "# WAP to take 3 numbers and perform arithmetic operations on them\n"
      ],
      "metadata": {
        "id": "DO10_Wt4RJvb"
      },
      "execution_count": null,
      "outputs": []
    },
    {
      "cell_type": "markdown",
      "source": [
        "### Q2.  Write a program to ask the user to input 3 numbers, and perform the following operations on them:\n",
        "1. Add the first and second number and store the result in a variable using the assignment shorthand\n",
        "2. Subtract the third number from the result of the first step and store it in the same result variable\n",
        "3. Multiply the second number to the third number and store it in the same variable.\n",
        "4. Divide the result of the third step by the result of the second step and store it in a new final result variable\n",
        "\n",
        "Print the result after each step\n",
        "\n",
        "Example Input:\n",
        "```\n",
        "Enter the first number: 10\n",
        "Enter the second number: 5\n",
        "Enter the third number: 2\n",
        "```\n",
        "Example Output:\n",
        "```\n",
        "Output after first step = 15\n",
        "Output after second step = 13\n",
        "Output after third step = 10\n",
        "Output after fourth step = 1.0\n",
        "```"
      ],
      "metadata": {
        "id": "VcAX3kyPRRyc"
      }
    },
    {
      "cell_type": "code",
      "source": [
        "# WAP to take 3 numbers and perform the given operations on them\n"
      ],
      "metadata": {
        "id": "4dV8o__7Rp-p"
      },
      "execution_count": null,
      "outputs": []
    },
    {
      "cell_type": "markdown",
      "source": [
        "### Q3.  Write a program to ask the user to input 3 numbers, and perform the following operations on them:\n",
        "1. Add the first and second number and store the result in a variable\n",
        "2. Check if the result of the first step is greater than the third number.\n",
        "3. Check if the result of the first step is equal to the third number\n",
        "4. Multiply the second number with the third number and store it in the same variable\n",
        "5. Check if the result of the fourth step is less than or equal to the first number.\n",
        "\n",
        "Print the result after each step\n",
        "\n",
        "Example Input:\n",
        "```\n",
        "Enter the first number: 10\n",
        "Enter the second number: 5\n",
        "Enter the third number: 2\n",
        "```\n",
        "Example Output:\n",
        "```\n",
        "Output after first step = 15\n",
        "Output after second step = True\n",
        "Output after third step = False\n",
        "Output after fourth step = 10\n",
        "Output after fifth step = True\n",
        "```"
      ],
      "metadata": {
        "id": "P5yYXR_QRqsR"
      }
    },
    {
      "cell_type": "code",
      "source": [
        "# WAP to take 3 numbers and perform the given Comparison operations on them\n"
      ],
      "metadata": {
        "id": "t4MhLQT2S7Ui"
      },
      "execution_count": null,
      "outputs": []
    },
    {
      "cell_type": "markdown",
      "source": [
        "### Q4.  Write a program to ask the user to input 3 numbers, and perform the following operations on them:\n",
        "1. Add the first and second number and store the result in a variable\n",
        "2. Check if the result of the first step is greater than the third number and it is less than the difference of the third and second number.\n",
        "3. Check if the result of the first step is equal to the third number or if it greater than the sum of the first and third number.\n",
        "4. Negate the result of the third step.\n",
        "\n",
        "Print the result after each step\n",
        "\n",
        "Example Input:\n",
        "```\n",
        "Enter the first number: 10\n",
        "Enter the second number: 5\n",
        "Enter the third number: 2\n",
        "```\n",
        "Example Output:\n",
        "```\n",
        "Output after first step = 15\n",
        "Output after second step = False\n",
        "Output after third step = True\n",
        "False\n",
        "```"
      ],
      "metadata": {
        "id": "fybIN1sCTiGf"
      }
    },
    {
      "cell_type": "code",
      "source": [
        "# WAP to take 3 numbers and perform the given Logical operations on them\n"
      ],
      "metadata": {
        "id": "YXusHuo2VBD3"
      },
      "execution_count": null,
      "outputs": []
    },
    {
      "cell_type": "markdown",
      "source": [
        "### Q5. Solve the following expressions:\n",
        "1. $4 + 5 * 3 \\% 2$\n",
        "2. $7 + (10 - 6) * 2$\n",
        "3. $(10 + 3) \\% 3 * (2 + 4)$\n",
        "4. $12 * (20 / 4) - 5 + 8$\n",
        "5. $6 + 5 - 9 - 3 + 4 * 3$\n",
        "6. $9 / 3 - 5 * 2 / 4$\n",
        "\n",
        "For these questions, solve each expression step-wise. Find the operator with the highest precedence, and feel free to use paranthesis while solving to mark which parts of the expression will be solved first. Go through the examples below to further understand how the solving process will work.\n",
        "\n",
        "---\n",
        "\n",
        "***Example 1***\n",
        "\n",
        "**Ex. 1:** $8 + (18 - 6) / 4$\n",
        "\n",
        "***Solution:*** \n",
        "\n",
        "Given Expression: $8 + (18 - 6) / 4$\n",
        "\n",
        "Now, `()` has the highest precedence, therefore the expression `18 - 6` will be carried out first.\n",
        "\n",
        "After this, the next highest precedence is of the `/` operator. Therefore, that will be evaluated next. Thus, we can reduce the expression to: \n",
        "\n",
        "> $8 + ((18 - 6) / 4)$\n",
        "\n",
        "with the inner brackets being solved first, then the outer brackets, and then the rest of the expression. Therefore, the complete solution would be: \n",
        "\n",
        "\n",
        "> Step 1: $8 + ((18 - 6) / 4)$\n",
        "\n",
        "> Step 2: $8 + (12 / 4)$\n",
        "\n",
        "> Step 3: $8 + 3$\n",
        "\n",
        "> Step 4: $11$\n",
        "\n",
        "Therefore, the final result is: **11**\n",
        "\n",
        "---\n",
        "\n",
        "***Example 2***\n",
        "\n",
        "**Ex. 1:** $12 + 3 - 7 - 15 + 3 * 6$\n",
        "\n",
        "***Solution:*** \n",
        "\n",
        "Given Expression: $12 + 3 - 7 - 15 + 3 * 6$\n",
        "\n",
        "Now, `*` has the highest precedence, therefore the expression `3 * 6` will be carried out first.\n",
        "\n",
        "After this, all the remaning operators have the same precedence. Therefore, the expression will be evaluated from left to right. Thus, we can reduce the expression to: \n",
        "\n",
        "> $12 + 3 - 7 - 15 + (3 * 6)$\n",
        "\n",
        "with the brackets being solved first, then the rest of the expression. Therefore, the complete solution would be: \n",
        "\n",
        "\n",
        "> Step 1: $12 + 3 - 7 - 15 + (3 * 6)$\n",
        "\n",
        "> Step 2: $12 + 3 - 7 - 15 + 18$\n",
        "\n",
        "> Step 3: $15 - 7 - 15 + 18$\n",
        "\n",
        "> Step 4: $8 - 15 + 18$\n",
        "\n",
        "> Step 5: $-7 + 18$\n",
        "\n",
        "> Step 4: $11$\n",
        "\n",
        "Therefore, the final result is: **11**\n",
        "\n",
        "---\n",
        "\n",
        "Once you've solved all the expressions by hand, you can test your result in the following way: \n",
        "\n",
        "```python\n",
        "print(write your expression here)\n",
        "```\n",
        "Take a look at the example programs section to see how I've done it, and use you can use the same method.\n"
      ],
      "metadata": {
        "id": "3vwxW3tVmKwq"
      }
    },
    {
      "cell_type": "code",
      "source": [
        "# Evaluating Expressions according to Operator Precedence\n"
      ],
      "metadata": {
        "id": "Zj7ySGKfuI7n"
      },
      "execution_count": null,
      "outputs": []
    },
    {
      "cell_type": "markdown",
      "source": [
        "# Experimenting\n",
        "This section is for your use, do as you wish, play around with the many buttons as you want to understand Google Colab better. I've kept on code block and one text box ready, but feel free to add more, write messages, simple programs, or do as you wish. \n",
        "\n",
        "And as I said, if you have any doubts, either send them on Whatsapp, or just write them here, and I'll check them out whenever I log in.  "
      ],
      "metadata": {
        "id": "TQ4lQBqRF6_8"
      }
    },
    {
      "cell_type": "code",
      "source": [
        "#Code block for experimenting with Google Colab's code blocks"
      ],
      "metadata": {
        "id": "xJSmqzEmKIoj"
      },
      "execution_count": null,
      "outputs": []
    },
    {
      "cell_type": "markdown",
      "source": [
        "Text block for experimenting with Text blocks"
      ],
      "metadata": {
        "id": "pr0HIrwwKN0S"
      }
    }
  ]
}